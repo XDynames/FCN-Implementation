{
 "cells": [
  {
   "cell_type": "code",
   "execution_count": 1,
   "metadata": {},
   "outputs": [],
   "source": [
    "# Include libraries\n",
    "from ipywidgets import FloatProgress\n",
    "from IPython.display import display\n",
    "from warnings import simplefilter\n",
    "# Stop warnings from printing\n",
    "simplefilter('ignore')\n",
    "import matplotlib.pyplot as plt\n",
    "from copy import deepcopy\n",
    "from os import listdir\n",
    "import numpy as np\n",
    "import cpuinfo\n",
    "import sys\n",
    "\n",
    "# Load pytorch\n",
    "import torch\n",
    "import torchvision"
   ]
  },
  {
   "cell_type": "code",
   "execution_count": 2,
   "metadata": {},
   "outputs": [
    {
     "name": "stdout",
     "output_type": "stream",
     "text": [
      "Using 2 GPUs:\n",
      "GPU 0: GeForce GTX 1070\n",
      "GPU 1: GeForce GTX 1070\n"
     ]
    }
   ],
   "source": [
    "# Check Available Devices\n",
    "if torch.cuda.is_available():\n",
    "    print('Using {0} GPUs:'.format(torch.cuda.device_count()))\n",
    "    for i in range(torch.cuda.device_count()):\n",
    "        print('GPU {0}: {1}'.format(i, torch.cuda.get_device_name(i)))\n",
    "    device = torch.device(\"cuda:0\")\n",
    "else:\n",
    "    device = torch.device(\"cpu\")\n",
    "    print(\"Using \" + str(cpuinfo.get_cpu_info()['brand']))"
   ]
  },
  {
   "cell_type": "code",
   "execution_count": 60,
   "metadata": {},
   "outputs": [],
   "source": [
    "# Build a FCN from pretrained Alexnet\n",
    "class AlexNetFCN(torch.nn.Module):\n",
    "    # Initialises the FCN\n",
    "    def __init__(self, numberOfClasses):\n",
    "        super().__init__()\n",
    "        \n",
    "        # Load pretrained AlexNet to copy parameters from\n",
    "        AlexNetFCN = torchvision.models.alexnet(pretrained = True)\n",
    "        \n",
    "        # Downsampling Pathway\n",
    "        self.downSample1 = torch.nn.Sequential(*list(AlexNetFCN.features.children())[0:5]) # Dim / 8\n",
    "        self.downSample3 = torch.nn.Sequential(*list(AlexNetFCN.features.children())[6:12]) # Dim / 16\n",
    "        # Demensionality Reduction to produce a tensor for each class\n",
    "        self.downSample4 = torch.nn.Sequential(\n",
    "                torch.nn.Conv2d(256, numberOfClasses, kernel_size = (1,1)), torch.nn.ReLU(True),\n",
    "                torch.nn.Conv2d(256, numberOfClasses, kernel_size = (1,1)), torch.nn.ReLU(True),\n",
    "                torch.nn.Conv2d(256, numberOfClasses, kernel_size = (1,1)), torch.nn.ReLU(True)\n",
    "        ) # Dim / 32\n",
    "        \n",
    "        # Upsampling Pathway - Bilinear interpolation\n",
    "        self.upSample2 = torch.nn.Sequential(torch.nn.Upsample(scale_factor = 2, mode = 'bilinear'))\n",
    "        self.upSample8 = torch.nn.Sequential(torch.nn.Upsample(scale_factor = 8, mode = 'bilinear'))\n",
    "                                        \n",
    "    # Forward path through the network\n",
    "    def forward(self, inputTensor):\n",
    "        # Downsampling Pathway\n",
    "        output1 = self.downSample1(inputTensor)\n",
    "        output2 = self.downSample3(output1)\n",
    "        output3 = self.downSample4(output2)\n",
    "        # Upsampling Pathway\n",
    "        output16 = self.upSample2(output3) + output2\n",
    "        output8 = self.upSample2(output16) + output1\n",
    "        return self.upSample8(output8)"
   ]
  },
  {
   "cell_type": "code",
   "execution_count": 61,
   "metadata": {},
   "outputs": [],
   "source": [
    "# Instance a FCN base on AlexNet\n",
    "alexFCN = AlexNetFCN(2)"
   ]
  },
  {
   "cell_type": "code",
   "execution_count": 62,
   "metadata": {
    "scrolled": false
   },
   "outputs": [
    {
     "name": "stdout",
     "output_type": "stream",
     "text": [
      "AlexNetFCN(\n",
      "  (downSample1): Sequential(\n",
      "    (0): Conv2d(3, 64, kernel_size=(11, 11), stride=(4, 4), padding=(2, 2))\n",
      "    (1): ReLU(inplace)\n",
      "    (2): MaxPool2d(kernel_size=3, stride=2, padding=0, dilation=1, ceil_mode=False)\n",
      "    (3): Conv2d(64, 192, kernel_size=(5, 5), stride=(1, 1), padding=(2, 2))\n",
      "    (4): ReLU(inplace)\n",
      "  )\n",
      "  (downSample3): Sequential(\n",
      "    (0): Conv2d(192, 384, kernel_size=(3, 3), stride=(1, 1), padding=(1, 1))\n",
      "    (1): ReLU(inplace)\n",
      "    (2): Conv2d(384, 256, kernel_size=(3, 3), stride=(1, 1), padding=(1, 1))\n",
      "    (3): ReLU(inplace)\n",
      "    (4): Conv2d(256, 256, kernel_size=(3, 3), stride=(1, 1), padding=(1, 1))\n",
      "    (5): ReLU(inplace)\n",
      "  )\n",
      "  (downSample4): Sequential(\n",
      "    (0): Conv2d(256, 2, kernel_size=(1, 1), stride=(1, 1))\n",
      "    (1): ReLU(inplace)\n",
      "    (2): Conv2d(256, 2, kernel_size=(1, 1), stride=(1, 1))\n",
      "    (3): ReLU(inplace)\n",
      "    (4): Conv2d(256, 2, kernel_size=(1, 1), stride=(1, 1))\n",
      "    (5): ReLU(inplace)\n",
      "  )\n",
      "  (upSample2): Sequential(\n",
      "    (0): Upsample(scale_factor=2, mode=bilinear)\n",
      "  )\n",
      "  (upSample8): Sequential(\n",
      "    (0): Upsample(scale_factor=8, mode=bilinear)\n",
      "  )\n",
      ")\n"
     ]
    }
   ],
   "source": [
    "# Check the network has been modified\n",
    "print(alexFCN)"
   ]
  },
  {
   "cell_type": "code",
   "execution_count": null,
   "metadata": {},
   "outputs": [],
   "source": []
  }
 ],
 "metadata": {
  "kernelspec": {
   "display_name": "Python 3",
   "language": "python",
   "name": "python3"
  },
  "language_info": {
   "codemirror_mode": {
    "name": "ipython",
    "version": 3
   },
   "file_extension": ".py",
   "mimetype": "text/x-python",
   "name": "python",
   "nbconvert_exporter": "python",
   "pygments_lexer": "ipython3",
   "version": "3.7.0"
  }
 },
 "nbformat": 4,
 "nbformat_minor": 2
}
